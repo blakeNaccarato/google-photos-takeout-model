{
 "cells": [
  {
   "cell_type": "code",
   "execution_count": null,
   "id": "03b499f5",
   "metadata": {},
   "outputs": [],
   "source": [
    "from itertools import chain\n",
    "from pathlib import Path\n",
    "\n",
    "from pydantic import BaseModel"
   ]
  },
  {
   "cell_type": "code",
   "execution_count": null,
   "id": "a50c6738",
   "metadata": {},
   "outputs": [],
   "source": [
    "albums = Path(\"D:/Google takeout/2024-11-20-photos\")\n",
    "people = list((albums / \"people\").iterdir())\n",
    "undated = list((albums / \"undated\").iterdir())\n",
    "trash = albums / \"trash\"\n",
    "print(\n",
    "    f\"{len(people)=}\",\n",
    "    f\"{len(undated)=}\",\n",
    "    f\"Trash: {trash.relative_to(albums).as_posix()}\",\n",
    "    sep=\"\\n\",\n",
    ")"
   ]
  },
  {
   "cell_type": "code",
   "execution_count": null,
   "id": "1ac85095",
   "metadata": {},
   "outputs": [],
   "source": [
    "class Album(BaseModel):\n",
    "    path: Path\n",
    "\n",
    "    @property\n",
    "    def metadata(self) -> Path:\n",
    "        return self.path / \"metadata.json\"\n",
    "\n",
    "    @property\n",
    "    def file_metadata(self) -> list[Path]:\n",
    "        return list(self.path.glob(\"[!metadata]*.json\"))\n",
    "\n",
    "    @property\n",
    "    def files(self) -> list[Path]:\n",
    "        return list(self.path.glob(\"[!metadata]*[!.json]\"))\n",
    "\n",
    "    @property\n",
    "    def missing(self) -> list[Path]:\n",
    "        return [\n",
    "            path.with_name(path.stem)\n",
    "            for path in self.file_metadata\n",
    "            if not path.with_name(path.stem).exists()\n",
    "        ]\n",
    "\n",
    "\n",
    "dated = {\n",
    "    album.name: Album(path=album)\n",
    "    for album in [*(albums / \"dated\").iterdir(), *(albums / \"dated-done\").iterdir()]\n",
    "}\n",
    "all_years = albums / \"years\"\n",
    "years = {album.name: Album(path=album) for album in all_years.iterdir()}\n",
    "photos = list(chain.from_iterable(album.files for album in years.values()))\n",
    "print(\n",
    "    f\"{len(dated)=}\",\n",
    "    f\"{len(years)=}\",\n",
    "    f\"{len(photos)=}\",\n",
    "    sep=\"\\n\",\n",
    ")"
   ]
  },
  {
   "cell_type": "code",
   "execution_count": null,
   "id": "6bace665",
   "metadata": {},
   "outputs": [],
   "source": [
    "dated_photo_names = [\n",
    "    path.name for path in chain.from_iterable(album.files for album in dated.values())\n",
    "]\n",
    "[path.name for path in trash.iterdir() if path.name in dated_photo_names]"
   ]
  },
  {
   "cell_type": "code",
   "execution_count": null,
   "id": "7e7187ba",
   "metadata": {},
   "outputs": [],
   "source": [
    "album = dated[\"2008-10-25 Pool\"]\n",
    "missing = [\n",
    "    path.with_name(path.stem)\n",
    "    for path in album.file_metadata\n",
    "    if not path.with_name(path.stem).exists()\n",
    "]\n",
    "missing_names = [missing_photo.name for missing_photo in missing]\n",
    "[\n",
    "    photo.relative_to(all_years).as_posix()\n",
    "    for photo in photos\n",
    "    if photo.name in missing_names\n",
    "]"
   ]
  },
  {
   "cell_type": "code",
   "execution_count": null,
   "id": "07f94eef",
   "metadata": {},
   "outputs": [],
   "source": [
    "found: dict[str, list[str]] = {}\n",
    "for name, album in dated.items():\n",
    "    missing = [\n",
    "        path.with_name(path.stem)\n",
    "        for path in album.file_metadata\n",
    "        if not path.with_name(path.stem).exists()\n",
    "    ]\n",
    "    missing_names = [missing_photo.name for missing_photo in missing]\n",
    "    found[name] = [\n",
    "        photo.relative_to(all_years).as_posix()\n",
    "        for photo in photos\n",
    "        if photo.name in missing_names\n",
    "    ]\n",
    "found"
   ]
  }
 ],
 "metadata": {
  "kernelspec": {
   "display_name": ".venv",
   "language": "python",
   "name": "python3"
  },
  "language_info": {
   "codemirror_mode": {
    "name": "ipython",
    "version": 3
   },
   "file_extension": ".py",
   "mimetype": "text/x-python",
   "name": "python",
   "nbconvert_exporter": "python",
   "pygments_lexer": "ipython3",
   "version": "3.12.3"
  }
 },
 "nbformat": 4,
 "nbformat_minor": 5
}
