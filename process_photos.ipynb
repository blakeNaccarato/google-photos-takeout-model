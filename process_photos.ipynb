{
 "cells": [
  {
   "cell_type": "code",
   "execution_count": null,
   "id": "03b499f5",
   "metadata": {},
   "outputs": [],
   "source": [
    "from itertools import chain\n",
    "from pathlib import Path\n",
    "from google_photos_takeout_model.models.albums import Album\n",
    "from google_photos_takeout_model.models.media_items import get_media_items\n",
    "from devtools import pprint"
   ]
  },
  {
   "cell_type": "code",
   "execution_count": null,
   "id": "a50c6738",
   "metadata": {},
   "outputs": [],
   "source": [
    "albums = Path(\"D:/Google takeout/2024-11-20-photos\")\n",
    "people = list((albums / \"people\").iterdir())\n",
    "undated = list((albums / \"undated\").iterdir())\n",
    "trash = albums / \"trash\"\n",
    "print(\n",
    "    f\"{len(people)=}\",\n",
    "    f\"{len(undated)=}\",\n",
    "    f\"Trash: {trash.relative_to(albums).as_posix()}\",\n",
    "    sep=\"\\n\",\n",
    ")"
   ]
  },
  {
   "cell_type": "code",
   "execution_count": null,
   "id": "1ac85095",
   "metadata": {},
   "outputs": [],
   "source": [
    "all_years = albums / \"years\"\n",
    "years = {year.name: get_media_items(year) for year in all_years.iterdir()}\n",
    "all_media_items = list(chain.from_iterable(years.values()))\n",
    "print(\n",
    "    f\"{len(years)=}\",\n",
    "    f\"{len(all_media_items)=}\",\n",
    "    sep=\"\\n\",\n",
    ")"
   ]
  },
  {
   "cell_type": "code",
   "execution_count": null,
   "id": "8863c9fa",
   "metadata": {},
   "outputs": [],
   "source": [
    "pprint(all_media_items[-1])"
   ]
  },
  {
   "cell_type": "code",
   "execution_count": null,
   "id": "93a8c2d8",
   "metadata": {},
   "outputs": [],
   "source": [
    "dated = {\n",
    "    album_path.name: Album.from_path(album_path)\n",
    "    for album_path in [\n",
    "        *(albums / \"dated\").iterdir(),\n",
    "        *(albums / \"dated-done\").iterdir(),\n",
    "    ]\n",
    "}\n",
    "print(\n",
    "    f\"{len(dated)=}\",\n",
    "    sep=\"\\n\",\n",
    ")"
   ]
  },
  {
   "cell_type": "code",
   "execution_count": null,
   "id": "a15ab917",
   "metadata": {},
   "outputs": [],
   "source": [
    "pprint(next(iter(dated.values())).media_items[-1])"
   ]
  },
  {
   "cell_type": "code",
   "execution_count": null,
   "id": "7e7187ba",
   "metadata": {},
   "outputs": [],
   "source": [
    "# class Album(BaseModel):\n",
    "#     path: Path\n",
    "\n",
    "#     @property\n",
    "#     def metadata(self) -> Path:\n",
    "#         return self.path / \"metadata.json\"\n",
    "\n",
    "#     @property\n",
    "#     def file_metadata(self) -> list[Path]:\n",
    "#         return list(self.path.glob(\"[!metadata]*.json\"))\n",
    "\n",
    "#     @property\n",
    "#     def files(self) -> list[Path]:\n",
    "#         return list(self.path.glob(\"[!metadata]*[!.json]\"))\n",
    "\n",
    "#     @property\n",
    "#     def missing(self) -> list[Path]:\n",
    "#         return [\n",
    "#             path.with_name(path.stem)\n",
    "#             for path in self.file_metadata\n",
    "#             if not path.with_name(path.stem).exists()\n",
    "#         ]\n",
    "album = dated[\"2008-10-25 Pool\"]\n",
    "found_media_items_metadata_names = [\n",
    "    media_item.metadata_path.name for media_item in album.media_items\n",
    "]\n",
    "all_media_items_metadata = list(album.path.glob(\"[!metadata]*.json\"))\n",
    "it = iter(dated.values())"
   ]
  },
  {
   "cell_type": "code",
   "execution_count": null,
   "id": "b1cdb4cd",
   "metadata": {},
   "outputs": [],
   "source": [
    "album = next(it)\n",
    "found_media_items_metadata_names = [\n",
    "    media_item.metadata_path.name for media_item in album.media_items\n",
    "]\n",
    "all_media_items_metadata = list(album.path.glob(\"[!metadata]*.json\"))\n",
    "metadata_paths_with_missing_media_items = [\n",
    "    metadata_path\n",
    "    for metadata_path in all_media_items_metadata\n",
    "    if metadata_path.name not in found_media_items_metadata_names\n",
    "]\n",
    "metadata_paths_with_missing_media_items\n",
    "# [\n",
    "#     photo.relative_to(all_years).as_posix()\n",
    "#     for photo in all_media_items\n",
    "#     if photo.name in missing_names\n",
    "# ]"
   ]
  }
 ],
 "metadata": {
  "kernelspec": {
   "display_name": ".venv",
   "language": "python",
   "name": "python3"
  },
  "language_info": {
   "codemirror_mode": {
    "name": "ipython",
    "version": 3
   },
   "file_extension": ".py",
   "mimetype": "text/x-python",
   "name": "python",
   "nbconvert_exporter": "python",
   "pygments_lexer": "ipython3",
   "version": "3.12.3"
  }
 },
 "nbformat": 4,
 "nbformat_minor": 5
}
