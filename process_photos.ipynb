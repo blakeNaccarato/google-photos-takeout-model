{
 "cells": [
  {
   "cell_type": "code",
   "execution_count": null,
   "id": "03b499f5",
   "metadata": {},
   "outputs": [],
   "source": [
    "from itertools import chain\n",
    "from pathlib import Path\n",
    "from google_photos_takeout_model.models.albums import Album\n",
    "from google_photos_takeout_model.models.media_items import get_media_items\n",
    "from devtools import pprint\n",
    "from more_itertools import only\n",
    "from more_itertools import first\n",
    "from shutil import copy"
   ]
  },
  {
   "cell_type": "code",
   "execution_count": null,
   "id": "a50c6738",
   "metadata": {},
   "outputs": [],
   "source": [
    "albums = Path(\"D:/Google takeout/2024-11-20-photos\")\n",
    "people = list((albums / \"people\").iterdir())\n",
    "undated = list((albums / \"undated\").iterdir())\n",
    "trash = albums / \"trash\"\n",
    "print(\n",
    "    f\"{len(people)=}\",\n",
    "    f\"{len(undated)=}\",\n",
    "    f\"Trash: {trash.relative_to(albums).as_posix()}\",\n",
    "    sep=\"\\n\",\n",
    ")"
   ]
  },
  {
   "cell_type": "code",
   "execution_count": null,
   "id": "1ac85095",
   "metadata": {},
   "outputs": [],
   "source": [
    "all_years = albums / \"years\"\n",
    "years = {year.name: get_media_items(year) for year in all_years.iterdir()}\n",
    "all_media_items = list(chain.from_iterable(years.values()))\n",
    "print(\n",
    "    f\"{len(years)=}\",\n",
    "    f\"{len(all_media_items)=}\",\n",
    "    sep=\"\\n\",\n",
    ")"
   ]
  },
  {
   "cell_type": "code",
   "execution_count": null,
   "id": "8863c9fa",
   "metadata": {},
   "outputs": [],
   "source": [
    "pprint(all_media_items[-1])"
   ]
  },
  {
   "cell_type": "code",
   "execution_count": null,
   "id": "93a8c2d8",
   "metadata": {},
   "outputs": [],
   "source": [
    "dated = {\n",
    "    album_path.name: Album.from_path(album_path)\n",
    "    for album_path in [\n",
    "        *(albums / \"dated-done\").iterdir(),\n",
    "    ]\n",
    "}\n",
    "print(\n",
    "    f\"{len(dated)=}\",\n",
    "    sep=\"\\n\",\n",
    ")"
   ]
  },
  {
   "cell_type": "code",
   "execution_count": null,
   "id": "7e7187ba",
   "metadata": {},
   "outputs": [],
   "source": [
    "album = dated[\"2008-(11-27) – (12-17) Snow Days\"]\n",
    "found_media_items_metadata_names = [\n",
    "    media_item.metadata_path.name for media_item in album.media_items\n",
    "]\n",
    "all_media_items_metadata = list(album.path.glob(\"[!metadata]*.json\"))\n",
    "metadata_paths_without_media_items = [\n",
    "    metadata_path\n",
    "    for metadata_path in all_media_items_metadata\n",
    "    if metadata_path.name not in found_media_items_metadata_names\n",
    "]\n",
    "only(metadata_paths_without_media_items, default=None)"
   ]
  },
  {
   "cell_type": "code",
   "execution_count": null,
   "id": "3a01e174",
   "metadata": {},
   "outputs": [],
   "source": [
    "if metadata_paths_without_media_items:\n",
    "    missing = metadata_paths_without_media_items[0]\n",
    "    found = first(\n",
    "        [\n",
    "            media_item\n",
    "            for media_item in all_media_items\n",
    "            if missing.with_name(missing.stem).stem == media_item.path.stem\n",
    "        ]\n",
    "    )\n",
    "    dest = album.path / found.path.name\n",
    "    copy(found.path, dest)\n",
    "    found.path = dest\n",
    "    album.media_items.append(found)"
   ]
  },
  {
   "cell_type": "code",
   "execution_count": null,
   "id": "400d2d69",
   "metadata": {},
   "outputs": [],
   "source": [
    "missing_media_items: dict[str, list[Path]] = {}\n",
    "for name, album in dated.items():\n",
    "    found_media_items_metadata_names = [\n",
    "        media_item.metadata_path.name for media_item in album.media_items\n",
    "    ]\n",
    "    all_media_items_metadata = list(album.path.glob(\"[!metadata]*.json\"))\n",
    "    metadata_paths_without_media_items = [\n",
    "        metadata_path\n",
    "        for metadata_path in all_media_items_metadata\n",
    "        if metadata_path.name not in found_media_items_metadata_names\n",
    "    ]\n",
    "    missing_media_items[name] = metadata_paths_without_media_items\n",
    "    for missing in metadata_paths_without_media_items:\n",
    "        found = first(\n",
    "            [\n",
    "                media_item\n",
    "                for media_item in all_media_items\n",
    "                if missing.with_name(missing.stem).stem == media_item.path.stem\n",
    "            ]\n",
    "        )\n",
    "        dest = album.path / found.path.name\n",
    "        copy(found.path, dest)\n",
    "        found.path = dest\n",
    "        album.media_items.append(found)\n",
    "pprint(missing_media_items)"
   ]
  }
 ],
 "metadata": {
  "kernelspec": {
   "display_name": ".venv",
   "language": "python",
   "name": "python3"
  },
  "language_info": {
   "codemirror_mode": {
    "name": "ipython",
    "version": 3
   },
   "file_extension": ".py",
   "mimetype": "text/x-python",
   "name": "python",
   "nbconvert_exporter": "python",
   "pygments_lexer": "ipython3",
   "version": "3.12.3"
  }
 },
 "nbformat": 4,
 "nbformat_minor": 5
}
